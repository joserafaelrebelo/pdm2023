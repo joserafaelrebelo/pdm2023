{
  "nbformat": 4,
  "nbformat_minor": 0,
  "metadata": {
    "colab": {
      "provenance": [],
      "include_colab_link": true
    },
    "kernelspec": {
      "name": "python3",
      "display_name": "Python 3"
    },
    "language_info": {
      "name": "python"
    }
  },
  "cells": [
    {
      "cell_type": "markdown",
      "metadata": {
        "id": "view-in-github",
        "colab_type": "text"
      },
      "source": [
        "<a href=\"https://colab.research.google.com/github/joserafaelrebelo/pdm2023/blob/dev/kaggle_experiments/inference.ipynb\" target=\"_parent\"><img src=\"https://colab.research.google.com/assets/colab-badge.svg\" alt=\"Open In Colab\"/></a>"
      ]
    },
    {
      "cell_type": "markdown",
      "source": [
        "## imports and stuff"
      ],
      "metadata": {
        "id": "xnjt1MxSzLJU"
      }
    },
    {
      "cell_type": "code",
      "source": [
        "from transformers import AutoTokenizer, AutoModelForSequenceClassification, pipeline\n",
        "from tqdm import tqdm\n",
        "import torch\n",
        "import os\n",
        "import csv"
      ],
      "metadata": {
        "id": "MFCdkU2-0do1"
      },
      "execution_count": null,
      "outputs": []
    },
    {
      "cell_type": "code",
      "source": [
        "from google.colab import drive\n",
        "drive.mount('/content/drive')"
      ],
      "metadata": {
        "id": "OjBPh77Dzi0S",
        "colab": {
          "base_uri": "https://localhost:8080/"
        },
        "outputId": "6237883a-8226-4f3d-a5df-52a1623195fa"
      },
      "execution_count": null,
      "outputs": [
        {
          "output_type": "stream",
          "name": "stdout",
          "text": [
            "Mounted at /content/drive\n"
          ]
        }
      ]
    },
    {
      "cell_type": "markdown",
      "source": [
        "## finetunned model"
      ],
      "metadata": {
        "id": "SGQ3L5a2zMx8"
      }
    },
    {
      "cell_type": "code",
      "source": [
        "label2id = {\n",
        "    \"Muito Negativo\": 0,\n",
        "    \"Negativo\": 1,\n",
        "    \"Neutro\": 2,\n",
        "    \"Positivo\": 3,\n",
        "    \"Muito Positivo\": 4\n",
        "}"
      ],
      "metadata": {
        "id": "f4U8bUK6gJMC"
      },
      "execution_count": null,
      "outputs": []
    },
    {
      "cell_type": "code",
      "source": [
        "# get model\n",
        "model_id = \"neuralmind/bert-base-portuguese-cased\"\n",
        "model = AutoModelForSequenceClassification.from_pretrained(model_id, label2id=label2id)\n",
        "\n",
        "tokenizer = AutoTokenizer.from_pretrained(\"neuralmind/bert-base-portuguese-cased\")"
      ],
      "metadata": {
        "id": "r1GvZGHw0Gtv",
        "colab": {
          "base_uri": "https://localhost:8080/"
        },
        "outputId": "b295d8a8-8d3e-447d-d423-cb25c2cb3254"
      },
      "execution_count": null,
      "outputs": [
        {
          "output_type": "stream",
          "name": "stderr",
          "text": [
            "Some weights of BertForSequenceClassification were not initialized from the model checkpoint at neuralmind/bert-base-portuguese-cased and are newly initialized: ['classifier.weight', 'classifier.bias']\n",
            "You should probably TRAIN this model on a down-stream task to be able to use it for predictions and inference.\n"
          ]
        }
      ]
    },
    {
      "cell_type": "code",
      "source": [
        "pipe = pipeline(\"text-classification\", model=model, tokenizer=tokenizer)\n",
        "\n",
        "csv_file_path = \"/content/drive/MyDrive/4° Semestre/PDM/reviews_test_kaggle.csv\"\n",
        "csv_file = '/content/drive/MyDrive/4° Semestre/PDM/bert_reviews.csv'\n",
        "\n",
        "if not os.path.exists(csv_file):\n",
        "    with open(csv_file, mode='w', newline='', encoding='utf-8') as file:\n",
        "        writer = csv.writer(file)\n",
        "        writer.writerow(['id', 'sentiment'])\n",
        "    print(\"Arquivo CSV criado com sucesso.\")\n",
        "\n",
        "with open(csv_file_path, 'r') as csvfile:\n",
        "    csv_reader = csv.DictReader(csvfile)\n",
        "    comment_data = list(csv_reader)"
      ],
      "metadata": {
        "id": "I0OKJ3xFWc1r"
      },
      "execution_count": null,
      "outputs": []
    },
    {
      "cell_type": "code",
      "source": [
        "for row in tqdm(comment_data):\n",
        "  content = row['content']\n",
        "  if len(content) > 512:\n",
        "    content = content[:512]\n",
        "  classification = pipe(content)\n",
        "  label = classification[0]['label']\n",
        "  with open(csv_file, 'a', newline='', encoding='utf-8') as file:\n",
        "      writer = csv.writer(file)\n",
        "      writer.writerow([row['id'], label2id.get(label)])\n",
        "\n",
        "del model, pipe\n",
        "torch.cuda.empty_cache()"
      ],
      "metadata": {
        "id": "9aBHiv4_hc9R",
        "colab": {
          "base_uri": "https://localhost:8080/"
        },
        "outputId": "1aa17a28-ff39-411d-dc6c-fa0003db75fb"
      },
      "execution_count": null,
      "outputs": [
        {
          "output_type": "stream",
          "name": "stderr",
          "text": [
            "100%|██████████| 57598/57598 [3:04:10<00:00,  5.21it/s]\n"
          ]
        }
      ]
    },
    {
      "cell_type": "code",
      "source": [
        "with open(csv_file, 'r') as csv_file:\n",
        "    csv_reader = csv.reader(csv_file)\n",
        "\n",
        "    # Use len() to get the number of rows in the CSV file\n",
        "    csv_length = len(list(csv_reader))\n",
        "    csv_list = list(csv_reader)\n",
        "\n",
        "print(csv_length)"
      ],
      "metadata": {
        "colab": {
          "base_uri": "https://localhost:8080/"
        },
        "id": "PuhjOM43BQTZ",
        "outputId": "fc96c59a-8b32-4d9c-d019-33b56cb68a4a"
      },
      "execution_count": null,
      "outputs": [
        {
          "output_type": "stream",
          "name": "stdout",
          "text": [
            "115197\n"
          ]
        }
      ]
    },
    {
      "cell_type": "code",
      "source": [
        "import pandas as pd"
      ],
      "metadata": {
        "id": "KG3WyiS7jo1k"
      },
      "execution_count": null,
      "outputs": []
    }
  ]
}